{
 "cells": [
  {
   "cell_type": "code",
   "execution_count": 3,
   "id": "bc93216a",
   "metadata": {},
   "outputs": [
    {
     "name": "stdout",
     "output_type": "stream",
     "text": [
      "Enter first word: silent\n",
      "Enter second word: listen\n",
      "Strings are anagrams\n"
     ]
    }
   ],
   "source": [
    "import os\n",
    "import sys\n",
    "\n",
    "firstWord = input(\"Enter first word: \")\n",
    "secondWord = input(\"Enter second word: \")\n",
    "\n",
    "\n",
    "def anagram(firstWord, secondWord):\n",
    "    same = len(firstWord)\n",
    "    #to account for spaces\n",
    "    FirstWord = ''.join(firstWord.split())\n",
    "    SecondWord = ''.join(secondWord.split())\n",
    "    for letter in FirstWord:\n",
    "        for otherletter in SecondWord:\n",
    "            #check if already at 0 in case of multiple repeating characters\n",
    "            if letter == otherletter and same != 0:\n",
    "                same = same - 1\n",
    "    if same == 0:\n",
    "        print(\"Strings are anagrams\")\n",
    "    else:\n",
    "        print(\"Strings are not anagrams\")\n",
    "\n",
    "\n",
    "if __name__ == '__main__':\n",
    "    anagram(firstWord, secondWord)\n"
   ]
  },
  {
   "cell_type": "markdown",
   "id": "e8da459b",
   "metadata": {},
   "source": []
  },
  {
   "cell_type": "code",
   "execution_count": null,
   "id": "71b6c92b",
   "metadata": {},
   "outputs": [],
   "source": []
  }
 ],
 "metadata": {
  "kernelspec": {
   "display_name": "Python 3 (ipykernel)",
   "language": "python",
   "name": "python3"
  },
  "language_info": {
   "codemirror_mode": {
    "name": "ipython",
    "version": 3
   },
   "file_extension": ".py",
   "mimetype": "text/x-python",
   "name": "python",
   "nbconvert_exporter": "python",
   "pygments_lexer": "ipython3",
   "version": "3.9.12"
  }
 },
 "nbformat": 4,
 "nbformat_minor": 5
}
